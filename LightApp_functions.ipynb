{
  "nbformat": 4,
  "nbformat_minor": 0,
  "metadata": {
    "colab": {
      "provenance": [],
      "authorship_tag": "ABX9TyOCMP+teo1ViUR3pQqcbtAZ",
      "include_colab_link": true
    },
    "kernelspec": {
      "name": "python3",
      "display_name": "Python 3"
    },
    "language_info": {
      "name": "python"
    }
  },
  "cells": [
    {
      "cell_type": "markdown",
      "metadata": {
        "id": "view-in-github",
        "colab_type": "text"
      },
      "source": [
        "<a href=\"https://colab.research.google.com/github/OlaOye23/Misc/blob/main/LightApp_functions.ipynb\" target=\"_parent\"><img src=\"https://colab.research.google.com/assets/colab-badge.svg\" alt=\"Open In Colab\"/></a>"
      ]
    },
    {
      "cell_type": "code",
      "execution_count": null,
      "metadata": {
        "id": "8vB-j0INQOAl"
      },
      "outputs": [],
      "source": []
    },
    {
      "cell_type": "code",
      "source": [
        "def light_on_first():#arg= deviceID\n",
        "  '''post code along with user data in code db'''\n",
        "  #initialise firebase\n",
        "  import firebase_admin\n",
        "  from firebase_admin import credentials\n",
        "  from firebase_admin import firestore\n",
        "  import datetime \n",
        "  import time\n",
        "\n",
        "  # Use a service account\n",
        "  cred = credentials.Certificate('/content/shopmob-secret.json')\n",
        "  try:\n",
        "    firebase_admin.initialize_app(cred)\n",
        "  except:\n",
        "    print('error occurred in initialising firebase. Perhaps already initialised')\n",
        "\n",
        "  db = firestore.client()\n",
        "  now = datetime.datetime.now()\n",
        "  nowCalc = time.mktime(now.timetuple())\n",
        "  #post to db\n",
        "  data = {#deviceID\n",
        "          u'deviceID': \"001\",\n",
        "          u'timeCalc': nowCalc,\n",
        "          u'location':\" [0, 0]\",\n",
        "        }\n",
        "  response = db.collection(u'light_reports_first').document().set(data)\n",
        "  return response\n",
        "\n",
        "\n",
        "def light_on_all():#arg= deviceID\n",
        "  '''post code along with user data in code db'''\n",
        "  #initialise firebase\n",
        "  import firebase_admin\n",
        "  from firebase_admin import credentials\n",
        "  from firebase_admin import firestore\n",
        "  import datetime \n",
        "  import time\n",
        "\n",
        "  # Use a service account\n",
        "  cred = credentials.Certificate('/content/shopmob-secret.json')\n",
        "  try:\n",
        "    firebase_admin.initialize_app(cred)\n",
        "  except:\n",
        "    print('error occurred in initialising firebase. Perhaps already initialised')\n",
        "\n",
        "  db = firestore.client()\n",
        "  now = datetime.datetime.now()\n",
        "  nowCalc = time.mktime(now.timetuple())\n",
        "  #post to db\n",
        "  data = {#deviceID\n",
        "          u'deviceID': \"001\",\n",
        "          u'timeCalc': nowCalc,\n",
        "          u'location': \"[0, 0]\",\n",
        "        }\n",
        "  response = db.collection(u'light_reports_all').document().set(data)\n",
        "  return response\n",
        "\n"
      ],
      "metadata": {
        "id": "ysWM_H0KQO-B"
      },
      "execution_count": null,
      "outputs": []
    }
  ]
}