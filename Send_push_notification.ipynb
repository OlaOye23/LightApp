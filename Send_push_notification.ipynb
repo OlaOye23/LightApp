{
  "cells": [
    {
      "cell_type": "markdown",
      "source": [
        "The code below sends a common push notification to a list of users in a firestore database. It uses Expo server SDK to send the push tokens. It assumes the existence of a firestore database that stores Expo push tokens assigned to users. The code is made of three functions:\n",
        "1)send_push: This serves as the main (entry point) function. It orchestrates the process by calling the other two.\n",
        "2)get_tokens: This retrives a list of push tokens from the firestore database\n",
        "3)send_push_message: This sends the push message to the users\n",
        "\n",
        "The code can be adjusted to accomodate personalised push messages e.g. Include the name of the user, logic to determine who/who not to send push notification to. This can be done by retrieving other user details from the database and then adding the neccessary logic"
      ],
      "metadata": {
        "id": "5DcIlV9h16sE"
      }
    },
    {
      "cell_type": "code",
      "execution_count": null,
      "metadata": {
        "colab": {
          "base_uri": "https://localhost:8080/",
          "height": 1000
        },
        "id": "lsHwHrbJEekT",
        "outputId": "e1d206ee-401b-41e5-e414-aac9801fe9fc"
      },
      "outputs": [
        {
          "output_type": "stream",
          "name": "stdout",
          "text": [
            "Looking in indexes: https://pypi.org/simple, https://us-python.pkg.dev/colab-wheels/public/simple/\n",
            "Collecting exponent_server_sdk\n",
            "  Downloading exponent_server_sdk-2.0.0-py3-none-any.whl (8.2 kB)\n",
            "Requirement already satisfied: requests in /usr/local/lib/python3.7/dist-packages (from exponent_server_sdk) (2.23.0)\n",
            "Requirement already satisfied: six in /usr/local/lib/python3.7/dist-packages (from exponent_server_sdk) (1.15.0)\n",
            "Requirement already satisfied: certifi>=2017.4.17 in /usr/local/lib/python3.7/dist-packages (from requests->exponent_server_sdk) (2022.6.15)\n",
            "Requirement already satisfied: idna<3,>=2.5 in /usr/local/lib/python3.7/dist-packages (from requests->exponent_server_sdk) (2.10)\n",
            "Requirement already satisfied: urllib3!=1.25.0,!=1.25.1,<1.26,>=1.21.1 in /usr/local/lib/python3.7/dist-packages (from requests->exponent_server_sdk) (1.24.3)\n",
            "Requirement already satisfied: chardet<4,>=3.0.2 in /usr/local/lib/python3.7/dist-packages (from requests->exponent_server_sdk) (3.0.4)\n",
            "Installing collected packages: exponent-server-sdk\n",
            "Successfully installed exponent-server-sdk-2.0.0\n",
            "Looking in indexes: https://pypi.org/simple, https://us-python.pkg.dev/colab-wheels/public/simple/\n",
            "Requirement already satisfied: firebase-admin in /usr/local/lib/python3.7/dist-packages (4.4.0)\n",
            "Collecting firebase-admin\n",
            "  Downloading firebase_admin-5.2.0-py3-none-any.whl (115 kB)\n",
            "\u001b[K     |████████████████████████████████| 115 kB 6.9 MB/s \n",
            "\u001b[?25hRequirement already satisfied: google-api-core[grpc]<3.0.0dev,>=1.22.1 in /usr/local/lib/python3.7/dist-packages (from firebase-admin) (1.31.6)\n",
            "Requirement already satisfied: cachecontrol>=0.12.6 in /usr/local/lib/python3.7/dist-packages (from firebase-admin) (0.12.11)\n",
            "Requirement already satisfied: google-api-python-client>=1.7.8 in /usr/local/lib/python3.7/dist-packages (from firebase-admin) (1.12.11)\n",
            "Collecting google-cloud-storage>=1.37.1\n",
            "  Downloading google_cloud_storage-2.4.0-py2.py3-none-any.whl (106 kB)\n",
            "\u001b[K     |████████████████████████████████| 106 kB 52.4 MB/s \n",
            "\u001b[?25hCollecting google-cloud-firestore>=2.1.0\n",
            "  Downloading google_cloud_firestore-2.6.0-py2.py3-none-any.whl (244 kB)\n",
            "\u001b[K     |████████████████████████████████| 244 kB 56.1 MB/s \n",
            "\u001b[?25hRequirement already satisfied: msgpack>=0.5.2 in /usr/local/lib/python3.7/dist-packages (from cachecontrol>=0.12.6->firebase-admin) (1.0.4)\n",
            "Requirement already satisfied: requests in /usr/local/lib/python3.7/dist-packages (from cachecontrol>=0.12.6->firebase-admin) (2.23.0)\n",
            "Requirement already satisfied: googleapis-common-protos<2.0dev,>=1.6.0 in /usr/local/lib/python3.7/dist-packages (from google-api-core[grpc]<3.0.0dev,>=1.22.1->firebase-admin) (1.56.4)\n",
            "Requirement already satisfied: six>=1.13.0 in /usr/local/lib/python3.7/dist-packages (from google-api-core[grpc]<3.0.0dev,>=1.22.1->firebase-admin) (1.15.0)\n",
            "Requirement already satisfied: setuptools>=40.3.0 in /usr/local/lib/python3.7/dist-packages (from google-api-core[grpc]<3.0.0dev,>=1.22.1->firebase-admin) (57.4.0)\n",
            "Requirement already satisfied: packaging>=14.3 in /usr/local/lib/python3.7/dist-packages (from google-api-core[grpc]<3.0.0dev,>=1.22.1->firebase-admin) (21.3)\n",
            "Requirement already satisfied: google-auth<2.0dev,>=1.25.0 in /usr/local/lib/python3.7/dist-packages (from google-api-core[grpc]<3.0.0dev,>=1.22.1->firebase-admin) (1.35.0)\n",
            "Requirement already satisfied: protobuf<4.0.0dev,>=3.12.0 in /usr/local/lib/python3.7/dist-packages (from google-api-core[grpc]<3.0.0dev,>=1.22.1->firebase-admin) (3.17.3)\n",
            "Requirement already satisfied: pytz in /usr/local/lib/python3.7/dist-packages (from google-api-core[grpc]<3.0.0dev,>=1.22.1->firebase-admin) (2022.1)\n",
            "Requirement already satisfied: grpcio<2.0dev,>=1.29.0 in /usr/local/lib/python3.7/dist-packages (from google-api-core[grpc]<3.0.0dev,>=1.22.1->firebase-admin) (1.47.0)\n",
            "Requirement already satisfied: google-auth-httplib2>=0.0.3 in /usr/local/lib/python3.7/dist-packages (from google-api-python-client>=1.7.8->firebase-admin) (0.0.4)\n",
            "Requirement already satisfied: httplib2<1dev,>=0.15.0 in /usr/local/lib/python3.7/dist-packages (from google-api-python-client>=1.7.8->firebase-admin) (0.17.4)\n",
            "Requirement already satisfied: uritemplate<4dev,>=3.0.0 in /usr/local/lib/python3.7/dist-packages (from google-api-python-client>=1.7.8->firebase-admin) (3.0.1)\n",
            "Requirement already satisfied: pyasn1-modules>=0.2.1 in /usr/local/lib/python3.7/dist-packages (from google-auth<2.0dev,>=1.25.0->google-api-core[grpc]<3.0.0dev,>=1.22.1->firebase-admin) (0.2.8)\n",
            "Requirement already satisfied: rsa<5,>=3.1.4 in /usr/local/lib/python3.7/dist-packages (from google-auth<2.0dev,>=1.25.0->google-api-core[grpc]<3.0.0dev,>=1.22.1->firebase-admin) (4.8)\n",
            "Requirement already satisfied: cachetools<5.0,>=2.0.0 in /usr/local/lib/python3.7/dist-packages (from google-auth<2.0dev,>=1.25.0->google-api-core[grpc]<3.0.0dev,>=1.22.1->firebase-admin) (4.2.4)\n",
            "  Downloading google_cloud_firestore-2.5.3-py2.py3-none-any.whl (244 kB)\n",
            "\u001b[K     |████████████████████████████████| 244 kB 44.7 MB/s \n",
            "\u001b[?25hCollecting protobuf<4.0.0dev,>=3.12.0\n",
            "  Downloading protobuf-3.20.1-cp37-cp37m-manylinux_2_5_x86_64.manylinux1_x86_64.whl (1.0 MB)\n",
            "\u001b[K     |████████████████████████████████| 1.0 MB 50.1 MB/s \n",
            "\u001b[?25hCollecting google-cloud-core<3.0.0dev,>=1.4.1\n",
            "  Downloading google_cloud_core-2.3.2-py2.py3-none-any.whl (29 kB)\n",
            "Collecting proto-plus<2.0.0dev,>=1.20.5\n",
            "  Downloading proto_plus-1.20.6-py3-none-any.whl (46 kB)\n",
            "\u001b[K     |████████████████████████████████| 46 kB 3.7 MB/s \n",
            "\u001b[?25hCollecting google-resumable-media>=2.3.2\n",
            "  Downloading google_resumable_media-2.3.3-py2.py3-none-any.whl (76 kB)\n",
            "\u001b[K     |████████████████████████████████| 76 kB 4.1 MB/s \n",
            "\u001b[?25hCollecting google-crc32c<2.0dev,>=1.0\n",
            "  Downloading google_crc32c-1.3.0-cp37-cp37m-manylinux_2_12_x86_64.manylinux2010_x86_64.whl (38 kB)\n",
            "Requirement already satisfied: pyparsing!=3.0.5,>=2.0.2 in /usr/local/lib/python3.7/dist-packages (from packaging>=14.3->google-api-core[grpc]<3.0.0dev,>=1.22.1->firebase-admin) (3.0.9)\n",
            "Requirement already satisfied: pyasn1<0.5.0,>=0.4.6 in /usr/local/lib/python3.7/dist-packages (from pyasn1-modules>=0.2.1->google-auth<2.0dev,>=1.25.0->google-api-core[grpc]<3.0.0dev,>=1.22.1->firebase-admin) (0.4.8)\n",
            "Requirement already satisfied: chardet<4,>=3.0.2 in /usr/local/lib/python3.7/dist-packages (from requests->cachecontrol>=0.12.6->firebase-admin) (3.0.4)\n",
            "Requirement already satisfied: idna<3,>=2.5 in /usr/local/lib/python3.7/dist-packages (from requests->cachecontrol>=0.12.6->firebase-admin) (2.10)\n",
            "Requirement already satisfied: certifi>=2017.4.17 in /usr/local/lib/python3.7/dist-packages (from requests->cachecontrol>=0.12.6->firebase-admin) (2022.6.15)\n",
            "Requirement already satisfied: urllib3!=1.25.0,!=1.25.1,<1.26,>=1.21.1 in /usr/local/lib/python3.7/dist-packages (from requests->cachecontrol>=0.12.6->firebase-admin) (1.24.3)\n",
            "Installing collected packages: protobuf, google-crc32c, proto-plus, google-resumable-media, google-cloud-core, google-cloud-storage, google-cloud-firestore, firebase-admin\n",
            "  Attempting uninstall: protobuf\n",
            "    Found existing installation: protobuf 3.17.3\n",
            "    Uninstalling protobuf-3.17.3:\n",
            "      Successfully uninstalled protobuf-3.17.3\n",
            "  Attempting uninstall: google-resumable-media\n",
            "    Found existing installation: google-resumable-media 0.4.1\n",
            "    Uninstalling google-resumable-media-0.4.1:\n",
            "      Successfully uninstalled google-resumable-media-0.4.1\n",
            "  Attempting uninstall: google-cloud-core\n",
            "    Found existing installation: google-cloud-core 1.0.3\n",
            "    Uninstalling google-cloud-core-1.0.3:\n",
            "      Successfully uninstalled google-cloud-core-1.0.3\n",
            "  Attempting uninstall: google-cloud-storage\n",
            "    Found existing installation: google-cloud-storage 1.18.1\n",
            "    Uninstalling google-cloud-storage-1.18.1:\n",
            "      Successfully uninstalled google-cloud-storage-1.18.1\n",
            "  Attempting uninstall: google-cloud-firestore\n",
            "    Found existing installation: google-cloud-firestore 1.7.0\n",
            "    Uninstalling google-cloud-firestore-1.7.0:\n",
            "      Successfully uninstalled google-cloud-firestore-1.7.0\n",
            "  Attempting uninstall: firebase-admin\n",
            "    Found existing installation: firebase-admin 4.4.0\n",
            "    Uninstalling firebase-admin-4.4.0:\n",
            "      Successfully uninstalled firebase-admin-4.4.0\n",
            "\u001b[31mERROR: pip's dependency resolver does not currently take into account all the packages that are installed. This behaviour is the source of the following dependency conflicts.\n",
            "tensorflow 2.8.2+zzzcolab20220719082949 requires protobuf<3.20,>=3.9.2, but you have protobuf 3.20.1 which is incompatible.\n",
            "google-cloud-translate 1.5.0 requires google-cloud-core<2.0dev,>=1.0.0, but you have google-cloud-core 2.3.2 which is incompatible.\n",
            "google-cloud-datastore 1.8.0 requires google-cloud-core<2.0dev,>=1.0.0, but you have google-cloud-core 2.3.2 which is incompatible.\n",
            "google-cloud-bigquery 1.21.0 requires google-cloud-core<2.0dev,>=1.0.3, but you have google-cloud-core 2.3.2 which is incompatible.\n",
            "google-cloud-bigquery 1.21.0 requires google-resumable-media!=0.4.0,<0.5.0dev,>=0.3.1, but you have google-resumable-media 2.3.3 which is incompatible.\u001b[0m\n",
            "Successfully installed firebase-admin-5.2.0 google-cloud-core-2.3.2 google-cloud-firestore-2.5.3 google-cloud-storage-2.4.0 google-crc32c-1.3.0 google-resumable-media-2.3.3 proto-plus-1.20.6 protobuf-3.20.1\n"
          ]
        },
        {
          "output_type": "display_data",
          "data": {
            "application/vnd.colab-display-data+json": {
              "pip_warning": {
                "packages": [
                  "google"
                ]
              }
            }
          },
          "metadata": {}
        }
      ],
      "source": [
        "!pip install exponent_server_sdk\n",
        "!pip install --upgrade firebase-admin"
      ]
    },
    {
      "cell_type": "code",
      "execution_count": null,
      "metadata": {
        "id": "5H2duqAJJFXD"
      },
      "outputs": [],
      "source": [
        "#LIGHTAPP\n",
        "\n",
        "def send_push():\n",
        "  #send push notifications\n",
        "  tokens_ = get_tokens()\n",
        "  for token in tokens_:\n",
        "    send_push_message(token,'My message to you', extra= {\"\":\"\"})\n",
        "\n",
        "def get_tokens():\n",
        "  '''submits push notifications to users stored in a firestore database\n",
        "  '''\n",
        "  #initialise firebase\n",
        "  import firebase_admin\n",
        "  from firebase_admin import credentials\n",
        "  from firebase_admin import firestore\n",
        "\n",
        "  # Use a service account\n",
        "  cred = credentials.Certificate('/content/shopmob-secret.json')\n",
        "  try:\n",
        "    firebase_admin.initialize_app(cred)\n",
        "  except:\n",
        "    print('error occurred in initialising firebase. Perhaps already initialised')\n",
        "\n",
        "  db = firestore.client()\n",
        "  #get subscribers list\n",
        "  users_ref = db.collection(u'light_users')\n",
        "  docs = users_ref.stream()\n",
        "\n",
        "  uid_ = []\n",
        "  secret_ = []\n",
        "  tokens_ = []\n",
        "\n",
        "  for doc in docs:\n",
        "    #print(f'{doc.id} => {doc.to_dict()}')\n",
        "    id = doc.id\n",
        "    doc = doc.to_dict()\n",
        "    #print(doc['email'])\n",
        "    if doc['status'] == \"active\":\n",
        "      tokens_.append(doc['token'])\n",
        "\n",
        "  return tokens_\n",
        "\n",
        "\n",
        "\n",
        "# Basic arguments. You should extend this function with the push features you\n",
        "# want to use, or simply pass in a `PushMessage` object.\n",
        "def send_push_message(token, message, extra=None):\n",
        "  from exponent_server_sdk import (\n",
        "    DeviceNotRegisteredError,\n",
        "    PushClient,\n",
        "    PushMessage,\n",
        "    PushServerError,\n",
        "    PushTicketError,\n",
        "  )\n",
        "  from requests.exceptions import ConnectionError, HTTPError\n",
        "  try:\n",
        "      response = PushClient().publish(\n",
        "          PushMessage(to=token,\n",
        "                      body=message,\n",
        "                      data=extra))\n",
        "      print(response)\n",
        "  except PushServerError as exc:\n",
        "      # Encountered some likely formatting/validation error.\n",
        "      rollbar.report_exc_info(\n",
        "          extra_data={\n",
        "              'token': token,\n",
        "              'message': message,\n",
        "              'extra': extra,\n",
        "              'errors': exc.errors,\n",
        "              'response_data': exc.response_data,\n",
        "          })\n",
        "      raise\n",
        "  except (ConnectionError, HTTPError) as exc:\n",
        "      # Encountered some Connection or HTTP error - retry a few times in\n",
        "      # case it is transient.\n",
        "      rollbar.report_exc_info(\n",
        "          extra_data={'token': token, 'message': message, 'extra': extra})\n",
        "      raise self.retry(exc=exc)\n",
        "\n",
        "  try:\n",
        "      # We got a response back, but we don't know whether it's an error yet.\n",
        "      # This call raises errors so we can handle them with normal exception\n",
        "      # flows.\n",
        "      response.validate_response()\n",
        "  except DeviceNotRegisteredError:\n",
        "      # Mark the push token as inactive\n",
        "      from notifications.models import PushToken\n",
        "      PushToken.objects.filter(token=token).update(active=False)\n",
        "  except PushTicketError as exc:\n",
        "      # Encountered some other per-notification error.\n",
        "      rollbar.report_exc_info(\n",
        "          extra_data={\n",
        "              'token': token,\n",
        "              'message': message,\n",
        "              'extra': extra,\n",
        "              'push_response': exc.push_response._asdict(),\n",
        "          })\n",
        "      raise self.retry(exc=exc)\n",
        "\n",
        "\n"
      ]
    },
    {
      "cell_type": "code",
      "source": [],
      "metadata": {
        "id": "FdE9oeEKGmcs"
      },
      "execution_count": null,
      "outputs": []
    },
    {
      "cell_type": "code",
      "execution_count": null,
      "metadata": {
        "id": "t_Zm4eRIKRYK"
      },
      "outputs": [],
      "source": [
        "\n"
      ]
    },
    {
      "cell_type": "code",
      "source": [],
      "metadata": {
        "id": "13B-TC8HGVHz"
      },
      "execution_count": null,
      "outputs": []
    },
    {
      "cell_type": "code",
      "execution_count": null,
      "metadata": {
        "id": "RP_1zcKbrosF"
      },
      "outputs": [],
      "source": []
    },
    {
      "cell_type": "code",
      "execution_count": null,
      "metadata": {
        "id": "h07Cw_jEr6dM"
      },
      "outputs": [],
      "source": []
    },
    {
      "cell_type": "code",
      "execution_count": null,
      "metadata": {
        "colab": {
          "base_uri": "https://localhost:8080/"
        },
        "id": "soePIlU5q0_o",
        "outputId": "8e2fa5d5-8b6c-440a-9300-ea28d2f51e5c"
      },
      "outputs": [
        {
          "data": {
            "text/plain": [
              "datetime.datetime(2022, 7, 20, 17, 38, 18, 38229)"
            ]
          },
          "execution_count": 20,
          "metadata": {},
          "output_type": "execute_result"
        }
      ],
      "source": []
    },
    {
      "cell_type": "code",
      "execution_count": null,
      "metadata": {
        "colab": {
          "background_save": true
        },
        "id": "ur3PC-XpsC3Y"
      },
      "outputs": [],
      "source": []
    }
  ],
  "metadata": {
    "colab": {
      "collapsed_sections": [],
      "provenance": []
    },
    "kernelspec": {
      "display_name": "Python 3",
      "name": "python3"
    },
    "language_info": {
      "name": "python"
    }
  },
  "nbformat": 4,
  "nbformat_minor": 0
}